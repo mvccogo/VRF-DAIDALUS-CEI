{
 "cells": [
  {
   "cell_type": "code",
   "execution_count": 3,
   "metadata": {},
   "outputs": [],
   "source": [
    "import pandas as pd\n",
    "import matplotlib.pyplot as plt\n",
    "import numpy as np\n"
   ]
  },
  {
   "cell_type": "code",
   "execution_count": 68,
   "metadata": {},
   "outputs": [],
   "source": [
    "df_metrics = pd.read_csv(\"C:\\\\Users\\\\matheusmc\\\\Documents\\\\GitHub\\\\VRF-DAIDALUS-CEI\\\\VRF-DAIDALUS-CEI\\\\VRF-scripts\\\\Scenario1\\severity.txt\", sep= ',', header = None)"
   ]
  },
  {
   "cell_type": "code",
   "execution_count": 69,
   "metadata": {},
   "outputs": [
    {
     "data": {
      "text/plain": [
       "{'minimal_severity': 2,\n",
       " 'minor_severity': 2,\n",
       " 'major_severity': 0,\n",
       " 'hazardous_severity': 40,\n",
       " 'catastrophic_severity': 3}"
      ]
     },
     "execution_count": 69,
     "metadata": {},
     "output_type": "execute_result"
    }
   ],
   "source": [
    "# SC-228 Severity table\n",
    "\n",
    "minimal_severity = 17\n",
    "minor_severity = 33\n",
    "major_severity = 47\n",
    "hazardous_severity = 94\n",
    "catastrophic_severity = 100\n",
    "\n",
    "severity_table = {\"minimal_severity\" : 0, \n",
    "                 \"minor_severity\" : 0,\n",
    "                 \"major_severity\" : 0,\n",
    "                 \"hazardous_severity\" : 0,\n",
    "                 \"catastrophic_severity\" : 0}\n",
    "\n",
    "sev = df_metrics[0].groupby(pd.cut(df_metrics[0], [0, minimal_severity, minor_severity, major_severity, hazardous_severity, catastrophic_severity], include_lowest=True)).count()\n",
    "\n",
    "\n",
    "severity_table[\"minimal_severity\"] = sev.iloc[0]\n",
    "severity_table[\"minor_severity\"] = sev.iloc[1]\n",
    "severity_table[\"major_severity\"] = sev.iloc[2]\n",
    "severity_table[\"hazardous_severity\"] = sev.iloc[3]\n",
    "severity_table[\"catastrophic_severity\"] = sev.iloc[4]\n",
    "\n",
    "severity_table\n",
    "\n",
    "\n"
   ]
  },
  {
   "cell_type": "code",
   "execution_count": null,
   "metadata": {},
   "outputs": [],
   "source": []
  }
 ],
 "metadata": {
  "interpreter": {
   "hash": "c2d8cefc2a10210a1c964d4cc2ac6b2b0618250d280d4b1d5dfc2918f7b5ce00"
  },
  "kernelspec": {
   "display_name": "Python 3.10.4 64-bit",
   "language": "python",
   "name": "python3"
  },
  "language_info": {
   "codemirror_mode": {
    "name": "ipython",
    "version": 3
   },
   "file_extension": ".py",
   "mimetype": "text/x-python",
   "name": "python",
   "nbconvert_exporter": "python",
   "pygments_lexer": "ipython3",
   "version": "3.10.4"
  },
  "orig_nbformat": 4
 },
 "nbformat": 4,
 "nbformat_minor": 2
}
