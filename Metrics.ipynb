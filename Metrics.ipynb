{
 "cells": [
  {
   "cell_type": "code",
   "execution_count": 39,
   "metadata": {},
   "outputs": [],
   "source": [
    "import pandas as pd\n",
    "import matplotlib.pyplot as plt\n",
    "import numpy as np\n"
   ]
  },
  {
   "cell_type": "code",
   "execution_count": 59,
   "metadata": {},
   "outputs": [],
   "source": [
    "df_metrics = pd.read_csv(\"C:\\\\Users\\\\matheusmc\\\\Documents\\\\GitHub\\\\VRF-DAIDALUS-CEI\\\\VRF-DAIDALUS-CEI\\\\VRF-scripts\\\\Scenario1\\severity.txt\", sep= ',', header = None)"
   ]
  },
  {
   "cell_type": "code",
   "execution_count": 60,
   "metadata": {},
   "outputs": [
    {
     "data": {
      "text/plain": [
       "{'minimal': 3, 'minor': 4, 'major': 4, 'hazardous': 24, 'catastrophic': 2}"
      ]
     },
     "execution_count": 60,
     "metadata": {},
     "output_type": "execute_result"
    }
   ],
   "source": [
    "# SC-228 Severity table\n",
    "\n",
    "minimal_severity = 17\n",
    "minor_severity = 33\n",
    "major_severity = 47\n",
    "hazardous_severity = 94\n",
    "catastrophic_severity = 100\n",
    "\n",
    "severity_table = {\"minimal\" : 0, \n",
    "                 \"minor\" : 0,\n",
    "                 \"major\" : 0,\n",
    "                 \"hazardous\" : 0,\n",
    "                 \"catastrophic\" : 0}\n",
    "\n",
    "sev = df_metrics[0].groupby(pd.cut(df_metrics[0], [0, minimal_severity, minor_severity, major_severity, hazardous_severity, catastrophic_severity], include_lowest=True)).count()\n",
    "\n",
    "\n",
    "severity_table[\"minimal\"] = sev.iloc[0]\n",
    "severity_table[\"minor\"] = sev.iloc[1]\n",
    "severity_table[\"major\"] = sev.iloc[2]\n",
    "severity_table[\"hazardous\"] = sev.iloc[3]\n",
    "severity_table[\"catastrophic\"] = sev.iloc[4]\n",
    "\n",
    "severity_table\n",
    "\n"
   ]
  },
  {
   "cell_type": "code",
   "execution_count": 61,
   "metadata": {},
   "outputs": [
    {
     "data": {
      "image/png": "[encoded data removed]",
      "text/plain": [
       "<Figure size 432x288 with 1 Axes>"
      ]
     },
     "metadata": {
      "needs_background": "light"
     },
     "output_type": "display_data"
    }
   ],
   "source": [
    "# Graphs\n",
    "# Scenario 1 - no resolution\n",
    "import time as tm\n",
    "\n",
    "plt.bar(severity_table.keys(), severity_table.values(), width = 0.8 )\n",
    "plt.xlabel(\"Encounter severity\")\n",
    "plt.ylabel(\"No. of encounters\")\n",
    "plt.title(\"Encounter overview - with resolution - scenario 1\")\n",
    "plt.savefig(\"figures/encounter_severity_nores_1_\"+ str(tm.time().__ceil__()) + \".png\", facecolor = 'white', transparent = False)\n",
    "plt.show()\n",
    "\n"
   ]
  },
  {
   "cell_type": "code",
   "execution_count": 50,
   "metadata": {},
   "outputs": [
    {
     "data": {
      "image/png": "[encoded data removed]",
      "text/plain": [
       "<Figure size 432x288 with 1 Axes>"
      ]
     },
     "metadata": {
      "needs_background": "light"
     },
     "output_type": "display_data"
    }
   ],
   "source": [
    "# Scenario 1 - fuel consumption\n",
    "plt.scatter(df_metrics[1],df_metrics[0])\n",
    "plt.show()\n",
    "\n",
    "\n"
   ]
  }
 ],
 "metadata": {
  "interpreter": {
   "hash": "c2d8cefc2a10210a1c964d4cc2ac6b2b0618250d280d4b1d5dfc2918f7b5ce00"
  },
  "kernelspec": {
   "display_name": "Python 3.10.4 64-bit",
   "language": "python",
   "name": "python3"
  },
  "language_info": {
   "codemirror_mode": {
    "name": "ipython",
    "version": 3
   },
   "file_extension": ".py",
   "mimetype": "text/x-python",
   "name": "python",
   "nbconvert_exporter": "python",
   "pygments_lexer": "ipython3",
   "version": "3.10.4"
  },
  "orig_nbformat": 4
 },
 "nbformat": 4,
 "nbformat_minor": 2
}
